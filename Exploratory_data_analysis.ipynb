{
 "cells": [
  {
   "cell_type": "markdown",
   "metadata": {},
   "source": [
    "# Análise de saúde mental na indústria de tecnologia "
   ]
  },
  {
   "cell_type": "markdown",
   "metadata": {},
   "source": [
    "Esse notebook tem o propósito de analisar dados de saúde mental de profissionais da indústria de tecnologia. Os dados são Open Source originados a partir do Open Source Mental Illness (OSMI) que realizou pesquisas durante os anos de 2014, 2016, 2017, 2018 e 2019. Cada pesquisa avalia a condição de saúde mental dos entrevistados e problemas associados à isso no ambiente de trabalho."
   ]
  },
  {
   "cell_type": "markdown",
   "metadata": {},
   "source": []
  }
 ],
 "metadata": {
  "language_info": {
   "name": "python"
  }
 },
 "nbformat": 4,
 "nbformat_minor": 2
}
